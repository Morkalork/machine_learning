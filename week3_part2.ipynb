!pip install onnxmltools
!pip install lightgbm

import pandas
from sklearn.metrics import accuracy_score
from sklearn.model_selection import train_test_split
from sklearn.neighbors import KNeighborsClassifier
from sklearn.tree import DecisionTreeClassifier
from sagemaker import get_execution_role
from sklearn.preprocessing import MinMaxScaler
from sklearn.ensemble import RandomForestClassifier
from onnxmltools import convert_sklearn
from onnxmltools.convert.common.data_types import FloatTensorType
import onnxmltools

def import_csv_file_from_bucket(fileName):
    role = get_execution_role()
    bucket = 'morkalork'
    data_location = 's3://{}/data/{}'.format(bucket, fileName)
    return pandas.read_csv(data_location)


def random_forest():
    data_frame = import_csv_file_from_bucket('grad_school.csv')
    X = data_frame[['gre','gpa','rank']]
    X = MinMaxScaler().fit_transform(X)
    data_scaled = pandas.DataFrame(X, columns=['gre','gpa','rank']).join(data_frame['admit'])

    train, test = train_test_split(data_scaled, test_size=0.2)
    acc_vs_trees = []
    for num_trees in range(2,101):

        clf = RandomForestClassifier(n_estimators=num_trees)

        clf.fit(train[['gre','gpa','rank']], train['admit'])

        predictions = clf.predict(test[['gre','gpa','rank']])

        acc = accuracy_score(test['admit'], predictions)
        acc_vs_trees.append([num_trees, acc])

    acc_df = pandas.DataFrame(acc_vs_trees, columns=['num_trees', 'accuracy'])
    acc_df[acc_df['accuracy'] == acc_df['accuracy'].max()]
    clf = RandomForestClassifier(n_estimators=20)

    clf.fit(train[['gre','gpa','rank']], train['admit'])

    model_onnx = convert_sklearn(clf, 'tree-based binary classifier', [('input', FloatTensorType([1, 3]))])

    onnxmltools.utils.save_model(model_onnx, 'exports/random_forest.onnx')
    print('Saved random_forest.onnx')


import onnx
def load_onnx_model():
    #Load the model created in Week 3 - logistic regression
    model = onnx.load("exports/log_reg.onnx")
    onnx.checker.check_model(model)
    model = onnx.load("exports/random_forest.onnx")
    onnx.checker.check_model(model)
    print(onnx.helper.printable_graph(model.graph))


def main():
    load_onnx_model()
    random_forest()

